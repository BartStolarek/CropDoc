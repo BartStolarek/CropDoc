{
 "cells": [
  {
   "cell_type": "code",
   "execution_count": 1,
   "metadata": {},
   "outputs": [],
   "source": [
    "import vgg_class\n",
    "import torch\n",
    "from torch import nn\n",
    "import torch.optim as optim\n",
    "from torchvision import transforms\n",
    "from data import DatasetManager\n",
    "from PIL import Image"
   ]
  },
  {
   "cell_type": "code",
   "execution_count": 2,
   "metadata": {},
   "outputs": [],
   "source": [
    "data_standard_transforms = {\n",
    "    'train': transforms.Compose([transforms.Resize((224,224)),\n",
    "        transforms.ToTensor()\n",
    "    ]),\n",
    "    'test': transforms.Compose([transforms.Resize((224,224)),\n",
    "        transforms.ToTensor()\n",
    "    ])\n",
    "}\n",
    "\n",
    "root_dir = \"/scratch/braines/Dataset/CCMT-Dataset-Augmented/train_Data/Cashew/\"\n",
    "Cashew_train_set = DatasetManager(root_dir, transform=data_standard_transforms)"
   ]
  },
  {
   "cell_type": "code",
   "execution_count": 19,
   "metadata": {},
   "outputs": [],
   "source": [
    "NUM_EPOCHS = 1  # Number of passes through entire training dataset\n",
    "CV_FOLDS = 2  # Number of cross-validation folds\n",
    "BATCH_SIZE = 32  # Within each epoch data is split into batches\n",
    "LEARNING_RATE = 0.001\n",
    "VAL_SPLIT = 0.2\n",
    "CROSS_VALIDATE = True\n",
    "\n",
    "device_ids = [i for i in range(torch.cuda.device_count())]\n",
    "vgg = vgg_class.vgg16((len(Cashew_train_set.unique_crops), len(Cashew_train_set.unique_states)))\n",
    "model = nn.DataParallel(vgg, device_ids=device_ids)\n",
    "device = torch.device(\"cuda\" if torch.cuda.is_available() else \"cpu\")\n",
    "model.to(device)\n",
    "criterion_crop = nn.CrossEntropyLoss()\n",
    "criterion_state = nn.CrossEntropyLoss()\n",
    "optimiser = optim.Adam(model.parameters(), lr=LEARNING_RATE)"
   ]
  },
  {
   "cell_type": "code",
   "execution_count": 20,
   "metadata": {},
   "outputs": [],
   "source": [
    "model.train()\n",
    "train_loader = torch.utils.data.DataLoader(Cashew_train_set.train_samples, batch_size=BATCH_SIZE)"
   ]
  },
  {
   "cell_type": "code",
   "execution_count": 21,
   "metadata": {},
   "outputs": [
    {
     "name": "stderr",
     "output_type": "stream",
     "text": [
      "/home/braines/.conda/envs/vgg/lib/python3.10/site-packages/torch/nn/parallel/parallel_apply.py:79: FutureWarning: `torch.cuda.amp.autocast(args...)` is deprecated. Please use `torch.amp.autocast('cuda', args...)` instead.\n",
      "  with torch.cuda.device(device), torch.cuda.stream(stream), autocast(enabled=autocast_enabled):\n"
     ]
    }
   ],
   "source": [
    "grad_crop_list = []\n",
    "grad_state_list = []\n",
    "for batch_idx, batch in enumerate(train_loader):\n",
    "    crop_label_idx = batch['crop_idx']\n",
    "    img_paths = batch['img_path']\n",
    "    splits = batch['split']\n",
    "    state_label_idx = batch['state_idx']\n",
    "    images = []\n",
    "    for path, split in zip(img_paths, splits):\n",
    "        images.append(Cashew_train_set.load_image_from_path(path, split))\n",
    "\n",
    "    images_tensor = torch.stack(images, dim=0)\n",
    "    #batch_metrics = train_batch(batch_idx, images_tensor, crop_label_idx, state_label_idx)\n",
    "    inputs = images_tensor.clone().detach().requires_grad_(True)\n",
    "    crop_labels = crop_label_idx.clone().detach()\n",
    "    state_labels = state_label_idx.clone().detach()\n",
    "\n",
    "    inputs = inputs.to(device)\n",
    "    crop_labels = crop_labels.to(device)\n",
    "    state_labels = state_labels.to(device)\n",
    "    #optimiser.zero_grad()\n",
    "                \n",
    "                # Forward pass\n",
    "    crop_outputs, state_outputs = model(inputs)\n",
    "    crop_loss = criterion_crop(crop_outputs, crop_labels)\n",
    "    state_loss = criterion_state(state_outputs, state_labels)\n",
    "    model.zero_grad()\n",
    "\n",
    "    crop_loss.backward(retain_graph=True)\n",
    "\n",
    "    grad_crop_out = {}\n",
    "    for name, param in model.named_parameters():\n",
    "        grad_crop_out[name] = param.grad.data.clone()\n",
    "    grad_crop_list.append(grad_crop_out)\n",
    "    state_loss.backward()\n",
    "\n",
    "    grad_state_out = {}\n",
    "    for name, param in model.named_parameters():\n",
    "        grad_state_out[name] = param.grad.data.clone()\n",
    "    grad_state_list.append(grad_state_out)\n",
    "    \n",
    "    optimiser.step()\n",
    "\n",
    "    if batch_idx == 2:\n",
    "        break"
   ]
  },
  {
   "cell_type": "code",
   "execution_count": null,
   "metadata": {},
   "outputs": [],
   "source": []
  }
 ],
 "metadata": {
  "kernelspec": {
   "display_name": "vgg",
   "language": "python",
   "name": "python3"
  },
  "language_info": {
   "codemirror_mode": {
    "name": "ipython",
    "version": 3
   },
   "file_extension": ".py",
   "mimetype": "text/x-python",
   "name": "python",
   "nbconvert_exporter": "python",
   "pygments_lexer": "ipython3",
   "version": "3.10.14"
  }
 },
 "nbformat": 4,
 "nbformat_minor": 2
}
