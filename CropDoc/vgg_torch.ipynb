{
 "cells": [
  {
   "cell_type": "code",
   "execution_count": 1,
   "metadata": {},
   "outputs": [],
   "source": [
    "import vgg_class\n",
    "from torch.autograd import Variable\n",
    "import torch\n",
    "import torch.nn as nn\n",
    "from PIL import Image\n",
    "import torchvision.transforms as transforms"
   ]
  },
  {
   "cell_type": "code",
   "execution_count": 12,
   "metadata": {},
   "outputs": [],
   "source": [
    "file = \"C:/Users/titan/Documents/Uni_Stuff/COSC320/Dataset/Dataset/CCMT-Dataset-Augmented/Cashew/test_set/anthracnose/0cashew_valid_anthracnose.JPG\"\n",
    "image = Image.open(file)\n",
    "transform = transforms.Compose([transforms.Resize(224), transforms.ToTensor()])\n",
    "img_tensor = transform(image)\n",
    "img_tensor\n",
    "img_list = (img_tensor, img_tensor)"
   ]
  },
  {
   "cell_type": "code",
   "execution_count": 8,
   "metadata": {},
   "outputs": [],
   "source": [
    "vgg = vgg_class.vgg16(7)"
   ]
  }
 ],
 "metadata": {
  "kernelspec": {
   "display_name": "CropDoc",
   "language": "python",
   "name": "python3"
  },
  "language_info": {
   "codemirror_mode": {
    "name": "ipython",
    "version": 3
   },
   "file_extension": ".py",
   "mimetype": "text/x-python",
   "name": "python",
   "nbconvert_exporter": "python",
   "pygments_lexer": "ipython3",
   "version": "3.10.14"
  }
 },
 "nbformat": 4,
 "nbformat_minor": 2
}
