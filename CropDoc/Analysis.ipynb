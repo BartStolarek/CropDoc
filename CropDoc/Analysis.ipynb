{
 "cells": [
  {
   "cell_type": "code",
   "execution_count": 1,
   "metadata": {},
   "outputs": [],
   "source": [
    "from PIL import Image\n",
    "import pandas as pd\n",
    "from pathlib import Path\n",
    "import re\n",
    "import matplotlib.pyplot as plt"
   ]
  },
  {
   "cell_type": "code",
   "execution_count": 2,
   "metadata": {},
   "outputs": [],
   "source": [
    "def act(file_path: Path, df: pd.DataFrame):\n",
    "    split_name = file_path.name.split(\"_\", -1)\n",
    "    species = str(\"\".join(re.findall(\"[a-zA-Z]\", split_name[0])))\n",
    "    disease = split_name[2].split(\".\",1)[0]\n",
    "    file = file_path.name\n",
    "    image = Image.open(file_path)\n",
    "    img_size = str(image.size[0]) + \",\" + str(image.size[1])\n",
    "    \n",
    "    if \"train_set\" in str(file_path):\n",
    "        group = \"train\"\n",
    "    elif \"test_set\" in str(file_path):\n",
    "        group = \"test\"\n",
    "    else:\n",
    "        group = \"\"\n",
    "    row = {\"Plant\": species \n",
    "           , \"disease\":disease\n",
    "           , \"size\":img_size\n",
    "           , \"group\": group\n",
    "           , \"FileName\": file}\n",
    "    df.loc[df.size] = row\n",
    "    return df\n",
    "\n",
    "def traverse_and_act(root_directory: str) -> pd.DataFrame:\n",
    "    df = pd.DataFrame(columns=['Plant','disease','size','group','FileName'])\n",
    "    path = Path(root_directory)\n",
    "    for file_path in path.rglob(\"*\"):\n",
    "        if file_path.is_file():\n",
    "            df = act(file_path, df)\n",
    "    return df"
   ]
  },
  {
   "cell_type": "code",
   "execution_count": 3,
   "metadata": {},
   "outputs": [],
   "source": [
    "image_details = traverse_and_act(\"/scratch/braines/Dataset/CCMT-Dataset-Augmented/\")\n",
    "#image_details.drop_duplicates(inplace=True)"
   ]
  },
  {
   "cell_type": "code",
   "execution_count": 4,
   "metadata": {},
   "outputs": [
    {
     "name": "stdout",
     "output_type": "stream",
     "text": [
      "<class 'pandas.core.frame.DataFrame'>\n",
      "Index: 105252 entries, 0 to 526255\n",
      "Data columns (total 5 columns):\n",
      " #   Column    Non-Null Count   Dtype \n",
      "---  ------    --------------   ----- \n",
      " 0   Plant     105252 non-null  object\n",
      " 1   disease   105252 non-null  object\n",
      " 2   size      105252 non-null  object\n",
      " 3   group     105252 non-null  object\n",
      " 4   FileName  105252 non-null  object\n",
      "dtypes: object(5)\n",
      "memory usage: 4.8+ MB\n"
     ]
    }
   ],
   "source": [
    "image_details.info()"
   ]
  },
  {
   "cell_type": "code",
   "execution_count": 4,
   "metadata": {},
   "outputs": [
    {
     "data": {
      "text/html": [
       "<div>\n",
       "<style scoped>\n",
       "    .dataframe tbody tr th:only-of-type {\n",
       "        vertical-align: middle;\n",
       "    }\n",
       "\n",
       "    .dataframe tbody tr th {\n",
       "        vertical-align: top;\n",
       "    }\n",
       "\n",
       "    .dataframe thead th {\n",
       "        text-align: right;\n",
       "    }\n",
       "</style>\n",
       "<table border=\"1\" class=\"dataframe\">\n",
       "  <thead>\n",
       "    <tr style=\"text-align: right;\">\n",
       "      <th></th>\n",
       "      <th>Plant</th>\n",
       "      <th>disease</th>\n",
       "      <th>size</th>\n",
       "      <th>group</th>\n",
       "      <th>FileName</th>\n",
       "    </tr>\n",
       "  </thead>\n",
       "  <tbody>\n",
       "    <tr>\n",
       "      <th>0</th>\n",
       "      <td>cashew</td>\n",
       "      <td>anthracnose</td>\n",
       "      <td>400,400</td>\n",
       "      <td></td>\n",
       "      <td>1001cashew_train_anthracnose.JPG</td>\n",
       "    </tr>\n",
       "    <tr>\n",
       "      <th>5</th>\n",
       "      <td>cashew</td>\n",
       "      <td>anthracnose</td>\n",
       "      <td>400,400</td>\n",
       "      <td></td>\n",
       "      <td>1002cashew_train_anthracnose.JPG</td>\n",
       "    </tr>\n",
       "    <tr>\n",
       "      <th>10</th>\n",
       "      <td>cashew</td>\n",
       "      <td>anthracnose</td>\n",
       "      <td>400,400</td>\n",
       "      <td></td>\n",
       "      <td>1000cashew_train_anthracnose.JPG</td>\n",
       "    </tr>\n",
       "    <tr>\n",
       "      <th>15</th>\n",
       "      <td>cashew</td>\n",
       "      <td>anthracnose</td>\n",
       "      <td>400,400</td>\n",
       "      <td></td>\n",
       "      <td>1003cashew_train_anthracnose.JPG</td>\n",
       "    </tr>\n",
       "    <tr>\n",
       "      <th>20</th>\n",
       "      <td>cashew</td>\n",
       "      <td>anthracnose</td>\n",
       "      <td>400,400</td>\n",
       "      <td></td>\n",
       "      <td>1006cashew_train_anthracnose.JPG</td>\n",
       "    </tr>\n",
       "  </tbody>\n",
       "</table>\n",
       "</div>"
      ],
      "text/plain": [
       "     Plant      disease     size group                          FileName\n",
       "0   cashew  anthracnose  400,400        1001cashew_train_anthracnose.JPG\n",
       "5   cashew  anthracnose  400,400        1002cashew_train_anthracnose.JPG\n",
       "10  cashew  anthracnose  400,400        1000cashew_train_anthracnose.JPG\n",
       "15  cashew  anthracnose  400,400        1003cashew_train_anthracnose.JPG\n",
       "20  cashew  anthracnose  400,400        1006cashew_train_anthracnose.JPG"
      ]
     },
     "execution_count": 4,
     "metadata": {},
     "output_type": "execute_result"
    }
   ],
   "source": [
    "image_details.head()"
   ]
  },
  {
   "cell_type": "markdown",
   "metadata": {},
   "source": [
    "There appears to be a variation of the number of samples provided for each of the Species in the Augmented dataset"
   ]
  },
  {
   "cell_type": "code",
   "execution_count": 87,
   "metadata": {},
   "outputs": [
    {
     "data": {
      "text/plain": [
       "<Axes: xlabel='Plant'>"
      ]
     },
     "execution_count": 87,
     "metadata": {},
     "output_type": "execute_result"
    },
    {
     "data": {
      "image/png": "[encoded data removed]",
      "text/plain": [
       "<Figure size 640x480 with 1 Axes>"
      ]
     },
     "metadata": {},
     "output_type": "display_data"
    }
   ],
   "source": [
    "#Number of images per Species for train folders\n",
    "image_details[['Plant','FileName']].groupby(['Plant']).nunique().plot.bar()"
   ]
  },
  {
   "cell_type": "markdown",
   "metadata": {},
   "source": [
    "Splitting each plant out into the Species and Test or Train there appears to be a split ratio difference between some of the plants. Where Maize and Tomato have a 80:20 train-test split, Cashew and Cassava have a 73:27 train-test split.\n",
    "There is also a train image number difference with the highest (Tomato) having 21723 images and the lowest (cashew) having 18910 Tomato has nearly 15% more images than cashew, this may impact the weighting in training the models"
   ]
  },
  {
   "cell_type": "code",
   "execution_count": 28,
   "metadata": {},
   "outputs": [
    {
     "data": {
      "text/html": [
       "<div>\n",
       "<style scoped>\n",
       "    .dataframe tbody tr th:only-of-type {\n",
       "        vertical-align: middle;\n",
       "    }\n",
       "\n",
       "    .dataframe tbody tr th {\n",
       "        vertical-align: top;\n",
       "    }\n",
       "\n",
       "    .dataframe thead th {\n",
       "        text-align: right;\n",
       "    }\n",
       "</style>\n",
       "<table border=\"1\" class=\"dataframe\">\n",
       "  <thead>\n",
       "    <tr style=\"text-align: right;\">\n",
       "      <th></th>\n",
       "      <th></th>\n",
       "      <th>FileName</th>\n",
       "    </tr>\n",
       "    <tr>\n",
       "      <th>Plant</th>\n",
       "      <th>group</th>\n",
       "      <th></th>\n",
       "    </tr>\n",
       "  </thead>\n",
       "  <tbody>\n",
       "    <tr>\n",
       "      <th rowspan=\"2\" valign=\"top\">cashew</th>\n",
       "      <th>test</th>\n",
       "      <td>6901</td>\n",
       "    </tr>\n",
       "    <tr>\n",
       "      <th>train</th>\n",
       "      <td>18910</td>\n",
       "    </tr>\n",
       "    <tr>\n",
       "      <th rowspan=\"2\" valign=\"top\">cassava</th>\n",
       "      <th>test</th>\n",
       "      <td>7510</td>\n",
       "    </tr>\n",
       "    <tr>\n",
       "      <th>train</th>\n",
       "      <td>20212</td>\n",
       "    </tr>\n",
       "    <tr>\n",
       "      <th rowspan=\"2\" valign=\"top\">maize</th>\n",
       "      <th>test</th>\n",
       "      <td>5125</td>\n",
       "    </tr>\n",
       "    <tr>\n",
       "      <th>train</th>\n",
       "      <td>19426</td>\n",
       "    </tr>\n",
       "    <tr>\n",
       "      <th rowspan=\"2\" valign=\"top\">tomato</th>\n",
       "      <th>test</th>\n",
       "      <td>5445</td>\n",
       "    </tr>\n",
       "    <tr>\n",
       "      <th>train</th>\n",
       "      <td>21723</td>\n",
       "    </tr>\n",
       "  </tbody>\n",
       "</table>\n",
       "</div>"
      ],
      "text/plain": [
       "               FileName\n",
       "Plant   group          \n",
       "cashew  test       6901\n",
       "        train     18910\n",
       "cassava test       7510\n",
       "        train     20212\n",
       "maize   test       5125\n",
       "        train     19426\n",
       "tomato  test       5445\n",
       "        train     21723"
      ]
     },
     "execution_count": 28,
     "metadata": {},
     "output_type": "execute_result"
    }
   ],
   "source": [
    "image_details[['Plant','group','FileName']].groupby(['Plant','group']).nunique()"
   ]
  },
  {
   "cell_type": "code",
   "execution_count": 46,
   "metadata": {},
   "outputs": [
    {
     "data": {
      "text/plain": [
       "<Axes: xlabel='disease'>"
      ]
     },
     "execution_count": 46,
     "metadata": {},
     "output_type": "execute_result"
    },
    {
     "data": {
      "image/png": "[encoded data removed]",
      "text/plain": [
       "<Figure size 640x480 with 1 Axes>"
      ]
     },
     "metadata": {},
     "output_type": "display_data"
    }
   ],
   "source": [
    "image_details[['disease','FileName']].where((image_details.Plant == 'cashew')& (image_details.group == 'train')).groupby(['disease']).nunique().plot.bar()"
   ]
  },
  {
   "cell_type": "code",
   "execution_count": 47,
   "metadata": {},
   "outputs": [
    {
     "data": {
      "text/plain": [
       "<Axes: xlabel='disease'>"
      ]
     },
     "execution_count": 47,
     "metadata": {},
     "output_type": "execute_result"
    },
    {
     "data": {
      "image/png": "[encoded data removed]",
      "text/plain": [
       "<Figure size 640x480 with 1 Axes>"
      ]
     },
     "metadata": {},
     "output_type": "display_data"
    }
   ],
   "source": [
    "image_details[['disease','FileName']].where((image_details.Plant == 'cassava')& (image_details.group == 'train')).groupby(['disease']).nunique().plot.bar()"
   ]
  },
  {
   "cell_type": "code",
   "execution_count": 48,
   "metadata": {},
   "outputs": [
    {
     "data": {
      "text/plain": [
       "<Axes: xlabel='disease'>"
      ]
     },
     "execution_count": 48,
     "metadata": {},
     "output_type": "execute_result"
    },
    {
     "data": {
      "image/png": "[encoded data removed]",
      "text/plain": [
       "<Figure size 640x480 with 1 Axes>"
      ]
     },
     "metadata": {},
     "output_type": "display_data"
    }
   ],
   "source": [
    "image_details[['disease','FileName']].where((image_details.Plant == 'maize')& (image_details.group == 'train')).groupby(['disease']).nunique().plot.bar()"
   ]
  },
  {
   "cell_type": "code",
   "execution_count": 49,
   "metadata": {},
   "outputs": [
    {
     "data": {
      "text/plain": [
       "<Axes: xlabel='disease'>"
      ]
     },
     "execution_count": 49,
     "metadata": {},
     "output_type": "execute_result"
    },
    {
     "data": {
      "image/png": "[encoded data removed]",
      "text/plain": [
       "<Figure size 640x480 with 1 Axes>"
      ]
     },
     "metadata": {},
     "output_type": "display_data"
    }
   ],
   "source": [
    "image_details[['disease','FileName']].where((image_details.Plant == 'tomato')& (image_details.group == 'train')).groupby(['disease']).nunique().plot.bar()"
   ]
  },
  {
   "cell_type": "code",
   "execution_count": 91,
   "metadata": {},
   "outputs": [
    {
     "data": {
      "text/plain": [
       "array(['400,400', '223,290', '160,245', '283,333', '379,332', '235,323',\n",
       "       '269,391', '400,302', '340,297', '235,320', '382,293', '276,384',\n",
       "       '360,240', '356,299', '369,292', '355,260', '370,285', '206,328',\n",
       "       '383,271', '204,281', '279,334', '269,352', '289,335', '239,309',\n",
       "       '264,337', '211,306', '263,350', '278,209', '364,249', '344,230',\n",
       "       '355,239', '318,259', '304,235', '307,258', '358,263', '365,322',\n",
       "       '355,311', '333,318', '400,274', '369,262', '276,206', '400,314',\n",
       "       '321,261', '315,232', '230,274', '251,247', '317,267', '194,275',\n",
       "       '369,296', '358,310', '400,335', '355,400', '400,337', '294,258',\n",
       "       '191,333', '227,298', '288,238', '292,269', '239,217', '311,260',\n",
       "       '308,222', '263,257', '400,312', '289,210', '272,203', '400,318',\n",
       "       '375,317', '244,214', '312,261', '400,292', '327,291', '289,291',\n",
       "       '324,239', '343,254', '293,322', '313,234', '346,312', '337,234',\n",
       "       '354,321', '93,107', '188,184'], dtype=object)"
      ]
     },
     "execution_count": 91,
     "metadata": {},
     "output_type": "execute_result"
    }
   ],
   "source": [
    "image_details['size'].unique()"
   ]
  },
  {
   "cell_type": "code",
   "execution_count": 5,
   "metadata": {},
   "outputs": [
    {
     "data": {
      "text/html": [
       "<div>\n",
       "<style scoped>\n",
       "    .dataframe tbody tr th:only-of-type {\n",
       "        vertical-align: middle;\n",
       "    }\n",
       "\n",
       "    .dataframe tbody tr th {\n",
       "        vertical-align: top;\n",
       "    }\n",
       "\n",
       "    .dataframe thead th {\n",
       "        text-align: right;\n",
       "    }\n",
       "</style>\n",
       "<table border=\"1\" class=\"dataframe\">\n",
       "  <thead>\n",
       "    <tr style=\"text-align: right;\">\n",
       "      <th></th>\n",
       "      <th></th>\n",
       "      <th>FileName</th>\n",
       "    </tr>\n",
       "    <tr>\n",
       "      <th>disease</th>\n",
       "      <th>Plant</th>\n",
       "      <th></th>\n",
       "    </tr>\n",
       "  </thead>\n",
       "  <tbody>\n",
       "    <tr>\n",
       "      <th>anthracnose</th>\n",
       "      <th>cashew</th>\n",
       "      <td>4940</td>\n",
       "    </tr>\n",
       "    <tr>\n",
       "      <th>bb</th>\n",
       "      <th>cassava</th>\n",
       "      <td>11818</td>\n",
       "    </tr>\n",
       "    <tr>\n",
       "      <th>bspot</th>\n",
       "      <th>cassava</th>\n",
       "      <td>4733</td>\n",
       "    </tr>\n",
       "    <tr>\n",
       "      <th>farmyw</th>\n",
       "      <th>maize</th>\n",
       "      <td>1424</td>\n",
       "    </tr>\n",
       "    <tr>\n",
       "      <th>gmite</th>\n",
       "      <th>cassava</th>\n",
       "      <td>4266</td>\n",
       "    </tr>\n",
       "    <tr>\n",
       "      <th>grasshoper</th>\n",
       "      <th>maize</th>\n",
       "      <td>2986</td>\n",
       "    </tr>\n",
       "    <tr>\n",
       "      <th>gumosis</th>\n",
       "      <th>cashew</th>\n",
       "      <td>2139</td>\n",
       "    </tr>\n",
       "    <tr>\n",
       "      <th rowspan=\"4\" valign=\"top\">healthy</th>\n",
       "      <th>cashew</th>\n",
       "      <td>7213</td>\n",
       "    </tr>\n",
       "    <tr>\n",
       "      <th>cassava</th>\n",
       "      <td>3455</td>\n",
       "    </tr>\n",
       "    <tr>\n",
       "      <th>maize</th>\n",
       "      <td>1041</td>\n",
       "    </tr>\n",
       "    <tr>\n",
       "      <th>tomato</th>\n",
       "      <td>2500</td>\n",
       "    </tr>\n",
       "    <tr>\n",
       "      <th>leaf beetle</th>\n",
       "      <th>maize</th>\n",
       "      <td>4739</td>\n",
       "    </tr>\n",
       "    <tr>\n",
       "      <th rowspan=\"2\" valign=\"top\">leaf blight</th>\n",
       "      <th>maize</th>\n",
       "      <td>5029</td>\n",
       "    </tr>\n",
       "    <tr>\n",
       "      <th>tomato</th>\n",
       "      <td>6509</td>\n",
       "    </tr>\n",
       "    <tr>\n",
       "      <th>leaf curl</th>\n",
       "      <th>tomato</th>\n",
       "      <td>2582</td>\n",
       "    </tr>\n",
       "    <tr>\n",
       "      <th>leaf miner</th>\n",
       "      <th>cashew</th>\n",
       "      <td>4953</td>\n",
       "    </tr>\n",
       "    <tr>\n",
       "      <th>leaf spot</th>\n",
       "      <th>maize</th>\n",
       "      <td>4285</td>\n",
       "    </tr>\n",
       "    <tr>\n",
       "      <th>mosaic</th>\n",
       "      <th>cassava</th>\n",
       "      <td>3450</td>\n",
       "    </tr>\n",
       "    <tr>\n",
       "      <th>red rust</th>\n",
       "      <th>cashew</th>\n",
       "      <td>6566</td>\n",
       "    </tr>\n",
       "    <tr>\n",
       "      <th>septoria leaf spot</th>\n",
       "      <th>tomato</th>\n",
       "      <td>11713</td>\n",
       "    </tr>\n",
       "    <tr>\n",
       "      <th>streak virus</th>\n",
       "      <th>maize</th>\n",
       "      <td>5047</td>\n",
       "    </tr>\n",
       "    <tr>\n",
       "      <th>verticulium wilt</th>\n",
       "      <th>tomato</th>\n",
       "      <td>3864</td>\n",
       "    </tr>\n",
       "  </tbody>\n",
       "</table>\n",
       "</div>"
      ],
      "text/plain": [
       "                            FileName\n",
       "disease            Plant            \n",
       "anthracnose        cashew       4940\n",
       "bb                 cassava     11818\n",
       "bspot              cassava      4733\n",
       "farmyw             maize        1424\n",
       "gmite              cassava      4266\n",
       "grasshoper         maize        2986\n",
       "gumosis            cashew       2139\n",
       "healthy            cashew       7213\n",
       "                   cassava      3455\n",
       "                   maize        1041\n",
       "                   tomato       2500\n",
       "leaf beetle        maize        4739\n",
       "leaf blight        maize        5029\n",
       "                   tomato       6509\n",
       "leaf curl          tomato       2582\n",
       "leaf miner         cashew       4953\n",
       "leaf spot          maize        4285\n",
       "mosaic             cassava      3450\n",
       "red rust           cashew       6566\n",
       "septoria leaf spot tomato      11713\n",
       "streak virus       maize        5047\n",
       "verticulium wilt   tomato       3864"
      ]
     },
     "execution_count": 5,
     "metadata": {},
     "output_type": "execute_result"
    }
   ],
   "source": [
    "image_details[['disease','Plant','FileName']].groupby(['disease','Plant']).nunique()"
   ]
  }
 ],
 "metadata": {
  "kernelspec": {
   "display_name": "vgg",
   "language": "python",
   "name": "python3"
  },
  "language_info": {
   "codemirror_mode": {
    "name": "ipython",
    "version": 3
   },
   "file_extension": ".py",
   "mimetype": "text/x-python",
   "name": "python",
   "nbconvert_exporter": "python",
   "pygments_lexer": "ipython3",
   "version": "3.10.14"
  }
 },
 "nbformat": 4,
 "nbformat_minor": 2
}
