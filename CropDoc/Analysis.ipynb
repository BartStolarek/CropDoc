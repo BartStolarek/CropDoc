{
 "cells": [
  {
   "cell_type": "code",
   "execution_count": null,
   "metadata": {},
   "outputs": [],
   "source": [
    "from PIL import Image\n",
    "import pandas as pd\n",
    "from pathlib import Path\n",
    "import re\n",
    "import matplotlib.pyplot as plt"
   ]
  },
  {
   "cell_type": "code",
   "execution_count": null,
   "metadata": {},
   "outputs": [],
   "source": [
    "def act(file_path: Path, df: pd.DataFrame):\n",
    "    split_name = file_path.name.split(\"_\", -1)\n",
    "    species = str(\"\".join(re.findall(\"[a-zA-Z]\", split_name[0])))\n",
    "    disease = split_name[2].split(\".\",1)[0]\n",
    "    file = file_path.name\n",
    "    image = Image.open(file_path)\n",
    "    if \"train_set\" in str(file_path):\n",
    "        group = \"train\"\n",
    "    elif \"test_set\" in str(file_path):\n",
    "        group = \"test\"\n",
    "    else:\n",
    "        group = \"\"\n",
    "    row = {\"Plant\": species \n",
    "           , \"disease\":disease\n",
    "           , \"size\":image.size\n",
    "           , \"group\": group\n",
    "           , \"FileName\": file}\n",
    "    df = pd.concat([df, pd.DataFrame(row)], ignore_index=True)\n",
    "    return df\n",
    "\n",
    "def traverse_and_act(root_directory: str) -> pd.DataFrame:\n",
    "    df = pd.DataFrame()\n",
    "    path = Path(root_directory)\n",
    "    for file_path in path.rglob(\"*\"):\n",
    "        if file_path.is_file():\n",
    "            df = act(file_path, df)\n",
    "    return df"
   ]
  },
  {
   "cell_type": "code",
   "execution_count": null,
   "metadata": {},
   "outputs": [],
   "source": [
    "image_details = traverse_and_act(\"/scratch/braines/Dataset/CCMT-Dataset-Augmented/\")\n",
    "image_details.drop_duplicates(inplace=True)\n"
   ]
  },
  {
   "cell_type": "code",
   "execution_count": null,
   "metadata": {},
   "outputs": [],
   "source": []
  }
 ],
 "metadata": {
  "language_info": {
   "name": "python"
  }
 },
 "nbformat": 4,
 "nbformat_minor": 2
}
